{
 "cells": [
  {
   "cell_type": "markdown",
   "metadata": {},
   "source": [
    "# Computing the Superfluid Stiffness\n",
    "\n",
    "As I implemented the computation of the superfluid stiffness, I found it rather convenient to be able to compute the superfluid stiffness on my work computer as to not retransfer the data back to the supercomputer. So here you go. Executing this cell will compute all the superfluid stiffness not already computed in *folder*. \n",
    "* This uses the compute_all_stiffness easy python script. This method is directly inspired by the program written by Patrick Sémon. It implements exaclty the same code as the stiffness.cpp file in the Autocoherence folder.\n",
    "* If you wish to change the way the self energy is loaded into the class, please refer to the scripts/constructG.py file.\n"
   ]
  },
  {
   "cell_type": "code",
   "execution_count": 2,
   "metadata": {},
   "outputs": [],
   "source": [
    "import os\n",
    "from scripts import compute_all_stiffness as cp\n",
    "folder = \"AllData/Only_Supra/\"\n",
    "for i,j,y in os.walk(folder):\n",
    "    if os.path.isdir(os.path.join(i,\"DATA\")): \n",
    "        cp.last_convergedFor_in_folder(i,15)"
   ]
  },
  {
   "cell_type": "code",
   "execution_count": null,
   "metadata": {},
   "outputs": [],
   "source": []
  }
 ],
 "metadata": {
  "kernelspec": {
   "display_name": "Python 3",
   "language": "python",
   "name": "python3"
  },
  "language_info": {
   "codemirror_mode": {
    "name": "ipython",
    "version": 3
   },
   "file_extension": ".py",
   "mimetype": "text/x-python",
   "name": "python",
   "nbconvert_exporter": "python",
   "pygments_lexer": "ipython3",
   "version": "3.7.0"
  }
 },
 "nbformat": 4,
 "nbformat_minor": 2
}
