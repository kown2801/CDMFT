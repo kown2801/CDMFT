{
 "cells": [
  {
   "cell_type": "markdown",
   "metadata": {},
   "source": [
    "# Create a new simulation\n",
    "\n",
    "This program allows to start a new simulation from a Hyb seed. I don't provide a way of starting a program with no Hyb seed because I had no use for it. Feel free of course to create one. \n",
    "* First with the first cell you select a Hybridation seed.\n",
    "\n",
    "\n",
    "* Then you can launch the simulation using the second cell. Beware of choosing the right parameters. The program will choose a folder name from the parameters. Don't worry if you make a mistake and choose parameters that are already running, the folder won't be erased and another folder name will be chosen (the format in the case is adding _# at the end of the folder name with # being a number starting at 1)"
   ]
  },
  {
   "cell_type": "code",
   "execution_count": 1,
   "metadata": {},
   "outputs": [
    {
     "name": "stdout",
     "output_type": "stream",
     "text": [
      "You are ready to start a new simulation on kowalski@cedar.computecanada.ca\n",
      "You are in the folder /scratch/kowalski/FullCDMFT/CDMFT/\n"
     ]
    }
   ],
   "source": [
    "from tkinter import filedialog\n",
    "from tkinter import *\n",
    "from fabric import Connection\n",
    "import os\n",
    "from AnalysisUtilities import distant_consts as CONSTS\n",
    "#First select the json Hyb file you want\n",
    "scripts_dir = CONSTS.distant_scripts_dir\n",
    "root = Tk()\n",
    "root.withdraw()\n",
    "Hybfile_name = filedialog.askopenfilename(title=\"Choose a Hyb file seed\",filetypes=[('', '.json')])\n",
    "#Then send it\n",
    "with Connection(CONSTS.ssh_address) as c:\n",
    "    c.put(Hybfile_name, os.path.join(scripts_dir,'BACKUP_START/Hyb1.json'))\n",
    "print(\"You are ready to start a new simulation on \" + CONSTS.ssh_address)\n",
    "print(\"You are in the folder \" + CONSTS.distant_main_dir)"
   ]
  },
  {
   "cell_type": "code",
   "execution_count": 2,
   "metadata": {},
   "outputs": [
    {
     "name": "stdout",
     "output_type": "stream",
     "text": [
      "Submitted batch job 65630565\n",
      "{'ep': '9', 'beta': '60', 'mu': '11.65', 'U': '12', 'MEASUREMENT_TIME': '35', 'computing_time': '1', 'iterations': '35', 'tpd': '1.5', 'tppp': '1', 'zero_order': '0'}\n",
      "\n",
      "Submitted batch job 65630566\n",
      "{'ep': '9', 'beta': '60', 'mu': '11.67', 'U': '12', 'MEASUREMENT_TIME': '35', 'computing_time': '1', 'iterations': '35', 'tpd': '1.5', 'tppp': '1', 'zero_order': '0'}\n",
      "\n"
     ]
    }
   ],
   "source": [
    "ep = 9\n",
    "U = 12\n",
    "tppp = 1\n",
    "tpd = 1.5\n",
    "beta = 60\n",
    "Measurement_time = 35 #In minutes\n",
    "Computing_time = 1 #In days\n",
    "iterations = 35\n",
    "mus = [11.65,11.67]\n",
    "zero_order = 0 \n",
    "#If zero_order is 1, it is because you wanted to force 0 superconducting order-parameter\n",
    "#But in this case, you need to yourself set a 0 Hyb seed on the pairing parts (pphi and mphi usually)\n",
    "\n",
    "for mu in mus:\n",
    "    result = c.run(\"cd \" + scripts_dir + \";./new_simulation.sh\" + \\\n",
    "                \" ep \" + str(ep) +\\\n",
    "                \" beta \" + str(beta) +\\\n",
    "                \" mu \" + str(mu) +\\\n",
    "                \" U \" + str(U) +\\\n",
    "                \" MEASUREMENT_TIME \" + str(Measurement_time) +\\\n",
    "                \" computing_time \" + str(Computing_time) +\\\n",
    "                \" iterations \" + str(iterations) +\\\n",
    "                \" tpd \" + str(tpd) +\\\n",
    "                \" tppp \" + str(tppp) + \\\n",
    "                \" zero_order \" + str(zero_order),hide=True)\n",
    "    print(result.stdout)\n"
   ]
  },
  {
   "cell_type": "code",
   "execution_count": null,
   "metadata": {},
   "outputs": [],
   "source": [
    "#Here we launch a simualtion on multiple values of beta and mu simultaneously\n",
    "ep = 9\n",
    "U = 12\n",
    "tppp = 1\n",
    "tpd = 1.5\n",
    "beta = 60\n",
    "betas = [40,45,50,55,60,65]\n",
    "Measurement_time = 35#In minutes\n",
    "Computing_time = 1 #In days\n",
    "iterations = 35\n",
    "mus = [11.66,11.67,11.68,11.69]\n",
    "zero_order = 0 \n",
    "#If zero_order is 1, it is because you wanted to force 0 superconducting order-parameter\n",
    "#But in this case, you need to yourself set a 0 Hyb seed on the pairing parts (pphi and mphi usually)\n",
    "\n",
    "\n",
    "for beta in betas:\n",
    "    for mu in mus:\n",
    "        result = c.run(os.path.join(scripts_dir,\"new_simulation.py\") +\\\n",
    "                    \" ep \" + str(ep) +\\\n",
    "                    \" beta \" + str(beta) +\\\n",
    "                    \" mu \" + str(mu) +\\\n",
    "                    \" U \" + str(U) +\\\n",
    "                    \" MEASUREMENT_TIME \" + str(Measurement_time) +\\\n",
    "                    \" computing_time \" + str(Computing_time) +\\\n",
    "                    \" iterations \" + str(iterations) +\\\n",
    "                    \" tpd \" + str(tpd) +\\\n",
    "                    \" tppp \" + str(tppp) + \\\n",
    "                    \" zero_order \" + str(zero_order),hide=True)\n",
    "        print(result.stdout)\n",
    "        if result.stderr:\n",
    "            print(\"Erreur : %s\",result.stderr)\n"
   ]
  },
  {
   "cell_type": "code",
   "execution_count": null,
   "metadata": {},
   "outputs": [],
   "source": []
  }
 ],
 "metadata": {
  "kernelspec": {
   "display_name": "Python 3",
   "language": "python",
   "name": "python3"
  },
  "language_info": {
   "codemirror_mode": {
    "name": "ipython",
    "version": 3
   },
   "file_extension": ".py",
   "mimetype": "text/x-python",
   "name": "python",
   "nbconvert_exporter": "python",
   "pygments_lexer": "ipython3",
   "version": "3.7.0"
  }
 },
 "nbformat": 4,
 "nbformat_minor": 2
}
