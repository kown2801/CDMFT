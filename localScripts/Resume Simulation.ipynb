{
 "cells": [
  {
   "cell_type": "markdown",
   "metadata": {},
   "source": [
    "# Resume your simulations\n",
    "\n",
    "To use this program execute the first and second cells. Then :\n",
    "\n",
    "* In the first input of the second cell give the integer that represents the folder you want to monitor in the first output.\n",
    "\n",
    "* In the second input give the iteration you want to stop at (-1 is to indicate no stopping iteration. The program will only stop after its time limit)\n",
    "\n",
    "* In the last input give the time you want your simulation to last (integer in days)"
   ]
  },
  {
   "cell_type": "code",
   "execution_count": 1,
   "metadata": {},
   "outputs": [
    {
     "name": "stdout",
     "output_type": "stream",
     "text": [
      "0 : ep7_beta60_mu9.7_U12_tpd1.5_tppp1\n",
      "1 : ep7_beta60_mu9.8_U12_tpd1.5_tppp1\n",
      "2 : ep7_beta60_mu9.9_U12_tpd1.5_tppp1\n",
      "3 : ep9_beta60_mu11.55_U12_tpd1.5_tppp1.4\n",
      "4 : ep9_beta60_mu11.57_U12_tpd1.5_tppp1.4\n",
      "5 : ep9_beta60_mu11.92_U12_tpd1.5_tppp0.8\n",
      "6 : ep9_beta60_mu11.9_U12_tpd1.5_tppp0.8\n",
      "7 : ep9_beta60_mu12.06_U12_tpd1.5_tppp0.6\n",
      "8 : ep9_beta60_mu12.08_U12_tpd1.5_tppp0.6\n"
     ]
    }
   ],
   "source": [
    "import getpass\n",
    "import sys\n",
    "import os\n",
    "from fabric import Connection\n",
    "from scripts import distant_consts as CONSTS\n",
    "main_dir = CONSTS.distant_main_dir\n",
    "all_data_dir = CONSTS.distant_data_dir\n",
    "scripts_dir = CONSTS.distant_scripts_dir\n",
    "with Connection(CONSTS.ssh_address) as c:\n",
    "    result = c.run(\"cd \" + all_data_dir + \";ls\",hide=True)\n",
    "    folders = result.stdout.split()\n",
    "    for i,f in enumerate(folders):\n",
    "        print('%d : %s' % (i, f))"
   ]
  },
  {
   "cell_type": "code",
   "execution_count": 2,
   "metadata": {},
   "outputs": [
    {
     "name": "stdout",
     "output_type": "stream",
     "text": [
      "Number of folder you want to resume ?8\n",
      "Stop iteration : -1\n",
      "Computing time in days: 1\n",
      "Submitted batch job 63170358\n",
      "\n"
     ]
    }
   ],
   "source": [
    "import select\n",
    "import numpy as np\n",
    "folder = folders[int(input(\"Number of folder you want to resume ?\"))]\n",
    "iteration_min = \"-1\"\n",
    "iteration_max = input(\"Stop iteration : \")\n",
    "Computing_days = input(\"Computing time in days: \")\n",
    "result = c.run(\"cd \" + scripts_dir + \";./resume_simulation.sh \" +\\\n",
    "         folder + \" \" + iteration_min + \" \" + iteration_max + \" \" + Computing_days,hide=True)\n",
    "print(result.stdout)"
   ]
  },
  {
   "cell_type": "code",
   "execution_count": null,
   "metadata": {},
   "outputs": [],
   "source": []
  }
 ],
 "metadata": {
  "kernelspec": {
   "display_name": "Python 3",
   "language": "python",
   "name": "python3"
  },
  "language_info": {
   "codemirror_mode": {
    "name": "ipython",
    "version": 3
   },
   "file_extension": ".py",
   "mimetype": "text/x-python",
   "name": "python",
   "nbconvert_exporter": "python",
   "pygments_lexer": "ipython3",
   "version": "3.7.0"
  }
 },
 "nbformat": 4,
 "nbformat_minor": 2
}
